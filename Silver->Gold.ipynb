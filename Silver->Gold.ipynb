{
 "cells": [
  {
   "cell_type": "markdown",
   "metadata": {
    "application/vnd.databricks.v1+cell": {
     "cellMetadata": {},
     "inputWidgets": {},
     "nuid": "f8076418-b188-49f3-b828-5f897c04bcc4",
     "showTitle": false,
     "tableResultSettingsMap": {},
     "title": ""
    }
   },
   "source": [
    "# Step 1: Build DateDim table"
   ]
  },
  {
   "cell_type": "code",
   "execution_count": 0,
   "metadata": {
    "application/vnd.databricks.v1+cell": {
     "cellMetadata": {
      "byteLimit": 2048000,
      "implicitDf": true,
      "rowLimit": 10000
     },
     "collapsed": true,
     "inputWidgets": {},
     "nuid": "6daf7fb2-b3d4-46d0-843b-0dcfab18b71c",
     "showTitle": false,
     "tableResultSettingsMap": {},
     "title": ""
    }
   },
   "outputs": [],
   "source": [
    "%sql\n",
    "-- Extract min and max date\n",
    "SELECT\n",
    "  CAST(min(order_date) AS DATE)  AS d_min,\n",
    "  CAST(max(COALESCE(ship_date, order_date)) AS DATE) AS d_max\n",
    "FROM main.retail.superstore_silver;\n"
   ]
  },
  {
   "cell_type": "markdown",
   "metadata": {
    "application/vnd.databricks.v1+cell": {
     "cellMetadata": {},
     "inputWidgets": {},
     "nuid": "e70c069a-ceb9-4c93-bba8-4fae0e253661",
     "showTitle": false,
     "tableResultSettingsMap": {},
     "title": ""
    }
   },
   "source": [
    "## Creating DateDim"
   ]
  },
  {
   "cell_type": "code",
   "execution_count": 0,
   "metadata": {
    "application/vnd.databricks.v1+cell": {
     "cellMetadata": {
      "byteLimit": 2048000,
      "implicitDf": true,
      "rowLimit": 10000
     },
     "inputWidgets": {},
     "nuid": "d0f07614-1670-4b2a-a9c2-eaae4e36388a",
     "showTitle": false,
     "tableResultSettingsMap": {},
     "title": ""
    }
   },
   "outputs": [],
   "source": [
    "%sql\n",
    "\n",
    "create or replace table main.retail_gold.DateDim (\n",
    "\n",
    "  date DATE NOT NULL\n",
    "    COMMENT 'Calendar date (day grain)',\n",
    "  date_sk INT NOT NULL GENERATED ALWAYS AS (CAST(date_format(date,'yyyyMMdd') AS INT))\n",
    "    COMMENT 'Surrogate key YYYYMMDD, generated from date',\n",
    "  \n",
    "  day_of_week TINYINT NOT NULL GENERATED ALWAYS AS (\n",
    "    CAST(pmod(dayofweek(date) + 5, 7) + 1 AS TINYINT)\n",
    "    )\n",
    "    COMMENT '1=Mon,..., 7=Sun (ISO)',\n",
    "  \n",
    "  dow_name STRING NOT NULL GENERATED ALWAYS AS (date_format(date,'EEE'))\n",
    "    COMMENT 'Mon, Tue,..., Sun (ISO)',\n",
    "  \n",
    "  week SMALLINT NOT NULL  GENERATED ALWAYS AS (\n",
    "    CAST(weekofyear(date) AS SMALLINT)\n",
    "    )\n",
    "    COMMENT 'Week number 1 - 53',\n",
    "  \n",
    "  month tinyint NOT NULL GENERATED ALWAYS AS (\n",
    "    CAST(month(date) AS TINYINT)\n",
    "    )\n",
    "    COMMENT 'month number 1-12',\n",
    "  \n",
    "  month_name STRING NOT NULL GENERATED ALWAYS AS (date_format(date,'MMMM'))\n",
    "    COMMENT 'Jan, Feb,..., Dec',\n",
    "  \n",
    "  quarter tinyint NOT NULL GENERATED ALWAYS AS (CAST(quarter(date) AS TINYINT))\n",
    "    COMMENT 'quarter number 1-4',\n",
    "  \n",
    "  year smallint NOT NULL GENERATED ALWAYS AS (\n",
    "    CAST(year(date) AS SMALLINT)\n",
    "    )\n",
    "    COMMENT 'Gregorian year, not ISO',\n",
    "\n",
    "  is_month_start BOOLEAN NOT NULL GENERATED ALWAYS AS (\n",
    "    date = date_trunc('month', date)\n",
    "    )\n",
    "    COMMENT 'True if first day of month',\n",
    "\n",
    "  is_month_end BOOLEAN NOT NULL GENERATED ALWAYS AS (\n",
    "    date = last_day(date)\n",
    "    )\n",
    "    COMMENT 'True if last day of month',\n",
    "  \n",
    "  is_quarter_start BOOLEAN NOT NULL GENERATED ALWAYS AS (\n",
    "    date = date_trunc('quarter', date)\n",
    "    )\n",
    "    COMMENT 'True if first day of quarter',\n",
    "  \n",
    "  is_quarter_end BOOLEAN NOT NULL GENERATED ALWAYS AS (\n",
    "    date = last_day(date) AND quarter(date) <> quarter(date_add(date, 1))\n",
    "    )\n",
    "    COMMENT 'True if last day of quarter' \n",
    ")\n",
    "\n",
    "USING DELTA\n",
    "COMMENT 'Date dimension (authoritative calendar ; one row per day)'\n",
    "TBLPROPERTIES (\n",
    "  delta.appendOnly = true\n",
    ");\n",
    "\n",
    "select * from main.retail_gold.datedim limit 10;"
   ]
  },
  {
   "cell_type": "markdown",
   "metadata": {
    "application/vnd.databricks.v1+cell": {
     "cellMetadata": {},
     "inputWidgets": {},
     "nuid": "9bf534f7-4860-4a39-a082-76fca987045e",
     "showTitle": false,
     "tableResultSettingsMap": {},
     "title": ""
    }
   },
   "source": [
    "## Filling DateDim"
   ]
  },
  {
   "cell_type": "code",
   "execution_count": 0,
   "metadata": {
    "application/vnd.databricks.v1+cell": {
     "cellMetadata": {
      "byteLimit": 2048000,
      "implicitDf": true,
      "rowLimit": 10000
     },
     "collapsed": true,
     "inputWidgets": {},
     "nuid": "328d69d9-ed25-4570-a600-67c4a10d0b3e",
     "showTitle": false,
     "tableResultSettingsMap": {},
     "title": ""
    }
   },
   "outputs": [],
   "source": [
    "%sql\n",
    "\n",
    "-- Extended date range to encompase entire years of date bounds\n",
    "WITH bounds AS (\n",
    "  SELECT\n",
    "    CAST('2011-01-01' AS DATE) AS d_min,\n",
    "    CAST('2015-12-31' AS DATE) AS d_max\n",
    "),\n",
    "calendar AS (\n",
    "  SELECT\n",
    "    explode(sequence(BOUNDS.d_min, BOUNDS.d_max)) AS date\n",
    "  FROM bounds\n",
    ")\n",
    "\n",
    "INSERT INTO main.retail_gold.DateDim(date)\n",
    "SELECT\n",
    "  c.date\n",
    "FROM calendar c\n",
    "LEFT ANTI JOIN main.retail_gold.datedim d ON c.date = d.date;\n",
    "\n",
    "SELECT * from main.retail_gold.DatEDiM limit 10;"
   ]
  },
  {
   "cell_type": "markdown",
   "metadata": {
    "application/vnd.databricks.v1+cell": {
     "cellMetadata": {},
     "inputWidgets": {},
     "nuid": "693718ae-2327-4a48-bc0e-deac9cf1bf2f",
     "showTitle": false,
     "tableResultSettingsMap": {},
     "title": ""
    }
   },
   "source": [
    "## Sanity checks on DateDim"
   ]
  },
  {
   "cell_type": "code",
   "execution_count": 0,
   "metadata": {
    "application/vnd.databricks.v1+cell": {
     "cellMetadata": {
      "byteLimit": 2048000,
      "implicitDf": true,
      "rowLimit": 10000
     },
     "inputWidgets": {},
     "nuid": "c757c7b3-f706-4eaf-9c15-35cc84015c0e",
     "showTitle": false,
     "tableResultSettingsMap": {},
     "title": ""
    }
   },
   "outputs": [],
   "source": [
    "%sql\n",
    "-- Range: Expect min_date 2011-01-01, max_date 2015-12-31\n",
    "SELECT min(date) AS min_date, max(date) AS max_date\n",
    "FROM main.retail_gold.datedim;"
   ]
  },
  {
   "cell_type": "code",
   "execution_count": 0,
   "metadata": {
    "application/vnd.databricks.v1+cell": {
     "cellMetadata": {
      "byteLimit": 2048000,
      "implicitDf": true,
      "rowLimit": 10000
     },
     "inputWidgets": {},
     "nuid": "70017066-f750-4af7-8299-52e7e60ab71b",
     "showTitle": false,
     "tableResultSettingsMap": {},
     "title": ""
    }
   },
   "outputs": [],
   "source": [
    "%sql\n",
    "-- Continuity: Expect no rows, datediff > 1 should evaluate to false in all cases.\n",
    "WITH ordered AS (\n",
    "  SELECT date, lag(date) OVER (ORDER BY date) AS prev_d\n",
    "  FROM main.retail_gold.datedim\n",
    ")\n",
    "SELECT date AS gap_starts_after\n",
    "FROM ordered\n",
    "WHERE prev_d IS NOT NULL AND datediff(date, prev_d) > 1;"
   ]
  },
  {
   "cell_type": "code",
   "execution_count": 0,
   "metadata": {
    "application/vnd.databricks.v1+cell": {
     "cellMetadata": {
      "byteLimit": 2048000,
      "implicitDf": true,
      "rowLimit": 10000
     },
     "inputWidgets": {},
     "nuid": "772959d3-ae82-4dea-85ed-aad7c57e9b9a",
     "showTitle": false,
     "tableResultSettingsMap": {},
     "title": ""
    }
   },
   "outputs": [],
   "source": [
    "%sql\n",
    "-- Uniqueness of surrogate key: expect n = nd\n",
    "SELECT COUNT(*) AS n, COUNT(DISTINCT date_sk) AS nd\n",
    "FROM main.retail_gold.datedim;"
   ]
  },
  {
   "cell_type": "markdown",
   "metadata": {
    "application/vnd.databricks.v1+cell": {
     "cellMetadata": {},
     "inputWidgets": {},
     "nuid": "17e66a7c-93f1-463a-8e66-ed0672dc99a7",
     "showTitle": false,
     "tableResultSettingsMap": {},
     "title": ""
    }
   },
   "source": [
    "# Step 2: Build ProductDim table"
   ]
  },
  {
   "cell_type": "code",
   "execution_count": 0,
   "metadata": {
    "application/vnd.databricks.v1+cell": {
     "cellMetadata": {
      "byteLimit": 2048000,
      "implicitDf": true,
      "rowLimit": 10000
     },
     "inputWidgets": {},
     "nuid": "997c0e33-5bd5-4640-80f6-a7109019c1cd",
     "showTitle": false,
     "tableResultSettingsMap": {},
     "title": ""
    }
   },
   "outputs": [],
   "source": [
    "%sql\n",
    "create or replace table main.retail_gold.ProductDim (\n",
    "  product_id string not null\n",
    "    comment 'Primary key. Unique identifier for product',\n",
    "  \n",
    "  product_name string not null\n",
    "    comment 'The product\\'s name',\n",
    "\n",
    "  category string not null\n",
    "    comment 'Top-level product grouping',\n",
    "  \n",
    "  subcategory string not null\n",
    "    comment 'The product\\'s sub-category. Rolls up to category',\n",
    "\n",
    "  row_hash string generated always as (\n",
    "    sha2(\n",
    "      concat_ws('||',\n",
    "        lower(TRIM(product_id)),\n",
    "        lower(TRIM(product_name)),\n",
    "        lower(TRIM(category)),\n",
    "        lower(TRIM(subcategory))\n",
    "      ),\n",
    "      256\n",
    "    )\n",
    "  )\n",
    "    comment \"SHA2-256 hash of business attributes for change detection\",\n",
    "\n",
    "\n",
    "  created_at timestamp not null default current_timestamp()\n",
    "    comment 'Timestamp of creation',\n",
    "\n",
    "  updated_at timestamp not null default current_timestamp()\n",
    "    comment 'Timestamp of last update'\n",
    ")\n",
    "\n",
    "USING DELTA\n",
    "COMMENT 'Product dimension (Type-1; overwrite on change; one row per product)'\n",
    "TBLPROPERTIES(\n",
    "  'delta.feature.allowColumnDefaults' = 'supported'\n",
    "  );\n",
    "\n",
    "select * from main.retail_gold.ProductDim;"
   ]
  },
  {
   "cell_type": "markdown",
   "metadata": {
    "application/vnd.databricks.v1+cell": {
     "cellMetadata": {},
     "inputWidgets": {},
     "nuid": "2369ee14-b339-4af9-ab6a-b44369b8dd6b",
     "showTitle": false,
     "tableResultSettingsMap": {},
     "title": ""
    }
   },
   "source": [
    "## Fill ProductDim table"
   ]
  },
  {
   "cell_type": "code",
   "execution_count": 0,
   "metadata": {
    "application/vnd.databricks.v1+cell": {
     "cellMetadata": {
      "byteLimit": 2048000,
      "implicitDf": true,
      "rowLimit": 10000
     },
     "inputWidgets": {},
     "nuid": "a70751a4-fe60-4b81-bd70-0226d059be89",
     "showTitle": false,
     "tableResultSettingsMap": {},
     "title": ""
    }
   },
   "outputs": [],
   "source": [
    "%sql\n",
    "MERGE INTO main.retail_gold.ProductDim AS t\n",
    "\n",
    "USING (\n",
    "  SELECT\n",
    "    UPPER(TRIM(product_id)) AS product_id,\n",
    "    TRIM(product_name)      AS product_name,\n",
    "    TRIM(category)          AS category,\n",
    "    TRIM(sub_category)      AS subcategory,\n",
    "    ROW_NUMBER() OVER (\n",
    "      PARTITION BY UPPER(TRIM(product_id))\n",
    "      ORDER BY TRIM(product_name)\n",
    "    ) AS rn,\n",
    "\n",
    "    sha2(\n",
    "      concat_ws('||',\n",
    "        lower(trim(product_name)),\n",
    "        lower(trim(sub_category)),\n",
    "        lower(trim(category))\n",
    "    ), \n",
    "    256\n",
    "    ) AS incoming_hash\n",
    "  FROM main.retail.superstore_silver\n",
    "  WHERE product_id IS NOT NULL AND TRIM(product_id) <> ''\n",
    ") s\n",
    "ON t.product_id = s.product_id\n",
    "\n",
    "\n",
    "when MATCHED AND s.rn = 1 AND t.row_hash <> s.incoming_hash THEN\n",
    "  UPDATE SET\n",
    "    product_name = s.product_name,\n",
    "    category     = s.category,\n",
    "    subcategory  = s.subcategory,\n",
    "    updated_at   = current_timestamp()\n",
    "\n",
    "\n",
    "when NOT MATCHED AND s.rn = 1 THEN\n",
    "  INSERT (product_id, product_name, category, subcategory)\n",
    "  VALUES (s.product_id, s.product_name, s.category, s.subcategory);\n"
   ]
  },
  {
   "cell_type": "code",
   "execution_count": 0,
   "metadata": {
    "application/vnd.databricks.v1+cell": {
     "cellMetadata": {
      "byteLimit": 2048000,
      "implicitDf": true,
      "rowLimit": 10000
     },
     "inputWidgets": {},
     "nuid": "e1667e64-f3f2-4028-b56f-51b1f93e02b7",
     "showTitle": false,
     "tableResultSettingsMap": {},
     "title": ""
    }
   },
   "outputs": [],
   "source": [
    "%sql\n",
    "select * from main.retail_gold.productdim limit 10"
   ]
  },
  {
   "cell_type": "markdown",
   "metadata": {
    "application/vnd.databricks.v1+cell": {
     "cellMetadata": {
      "byteLimit": 2048000,
      "rowLimit": 10000
     },
     "inputWidgets": {},
     "nuid": "68351d7d-9ad7-4785-87d4-b5f090b5662a",
     "showTitle": false,
     "tableResultSettingsMap": {},
     "title": ""
    }
   },
   "source": [
    "# Step 3 Build GeoDim TAble"
   ]
  },
  {
   "cell_type": "code",
   "execution_count": 0,
   "metadata": {
    "application/vnd.databricks.v1+cell": {
     "cellMetadata": {
      "byteLimit": 2048000,
      "implicitDf": true,
      "rowLimit": 10000
     },
     "inputWidgets": {},
     "nuid": "38a48390-361a-4014-b74d-5459a419bd41",
     "showTitle": false,
     "tableResultSettingsMap": {},
     "title": ""
    }
   },
   "outputs": [],
   "source": [
    "%sql\n",
    "select * from main.retail.superstore_silver limit 10"
   ]
  },
  {
   "cell_type": "code",
   "execution_count": 0,
   "metadata": {
    "application/vnd.databricks.v1+cell": {
     "cellMetadata": {
      "byteLimit": 2048000,
      "implicitDf": true,
      "rowLimit": 10000
     },
     "inputWidgets": {},
     "nuid": "ceca3b41-0186-49de-8f42-a9cd183240b4",
     "showTitle": false,
     "tableResultSettingsMap": {},
     "title": ""
    }
   },
   "outputs": [],
   "source": [
    "%sql\n",
    "select distinct region from main.retail.superstore_silver;"
   ]
  },
  {
   "cell_type": "code",
   "execution_count": 0,
   "metadata": {
    "application/vnd.databricks.v1+cell": {
     "cellMetadata": {
      "byteLimit": 2048000,
      "implicitDf": true,
      "rowLimit": 10000
     },
     "inputWidgets": {},
     "nuid": "80d90219-e9c4-421f-b49b-1e66562ccf9b",
     "showTitle": false,
     "tableResultSettingsMap": {},
     "title": ""
    }
   },
   "outputs": [],
   "source": [
    "%sql\n",
    "\n",
    "create or replace table main.retail_gold.GeoDim (\n",
    "  geo_id string not null generated always as (\n",
    "    sha2(\n",
    "      concat_ws('||',\n",
    "        lower(TRIM(region)),\n",
    "        lower(TRIM(state)),\n",
    "        lower(TRIM(city)),\n",
    "        lower(TRIM(postal_code))\n",
    "      ),\n",
    "      256\n",
    "    )\n",
    "  )\n",
    "    comment 'Deterministic key made of hashed region, state, city, postal code',\n",
    "  \n",
    "  region string not null\n",
    "    comment 'The region of the store. Allowed set: {Central, East, South, West}',\n",
    "  \n",
    "  state string not null\n",
    "    comment 'The full name of the state (e.g., \"Washington\")',\n",
    "  \n",
    "  city string not null\n",
    "    comment 'The city name (e.g. \"Seattle\", \"St. Louis\")',\n",
    "\n",
    "  postal_code string not null\n",
    "    comment 'The postal code (e.g., \"98101\")',\n",
    "  \n",
    "  created_at timestamp not null default current_timestamp()\n",
    "    comment 'Timestamp of creation',\n",
    "\n",
    "  updated_at timestamp not null default current_timestamp()\n",
    "    comment 'Timestamp of last update'\n",
    ")\n",
    "\n",
    "using delta\n",
    "comment 'Geo dimension at ZIP grain (Type-1; one row per region/state/city/zip)'\n",
    "TBLPROPERTIES(\n",
    "  'delta.feature.allowColumnDefaults' = 'supported'\n",
    "  );\n",
    "\n",
    "\n",
    "select * from main.retail_gold.geodim limit 1"
   ]
  },
  {
   "cell_type": "markdown",
   "metadata": {
    "application/vnd.databricks.v1+cell": {
     "cellMetadata": {},
     "inputWidgets": {},
     "nuid": "f80e6d99-a95d-415a-8412-cb40d587d6b0",
     "showTitle": false,
     "tableResultSettingsMap": {},
     "title": ""
    }
   },
   "source": [
    "## Filling GeoDim"
   ]
  },
  {
   "cell_type": "code",
   "execution_count": 0,
   "metadata": {
    "application/vnd.databricks.v1+cell": {
     "cellMetadata": {
      "byteLimit": 2048000,
      "implicitDf": true,
      "rowLimit": 10000
     },
     "inputWidgets": {},
     "nuid": "0cd3bcbe-484e-439d-859f-7b6327278f9a",
     "showTitle": false,
     "tableResultSettingsMap": {},
     "title": ""
    }
   },
   "outputs": [],
   "source": [
    "%sql\n",
    "with temp as (\n",
    "  select\n",
    "    initcap(trim(region)) as region,\n",
    "    initcap(trim(state))  as state,\n",
    "    initcap(trim(city))   as city,\n",
    "    lpad(substring(regexp_replace(trim(postal_code), '\\\\D', ''), 1, 5), 5, '0') as postal_code,\n",
    "    sha2(concat_ws('||',\n",
    "      lower(trim(initcap(trim(region)))),\n",
    "      lower(trim(initcap(trim(state)))),\n",
    "      lower(trim(initcap(trim(city)))),\n",
    "      lpad(substring(regexp_replace(trim(postal_code), '\\\\D', ''), 1, 5), 5, '0')\n",
    "    ), 256) as geo_key,\n",
    "    row_number() over (\n",
    "      partition by sha2(concat_ws('||',\n",
    "        lower(trim(initcap(trim(region)))),\n",
    "        lower(trim(initcap(trim(state)))),\n",
    "        lower(trim(initcap(trim(city)))),\n",
    "        lpad(substring(regexp_replace(trim(postal_code), '\\\\D', ''), 1, 5), 5, '0')\n",
    "      ), 256)\n",
    "      order by city, state\n",
    "    ) as rn\n",
    "  from main.retail.superstore_silver\n",
    "  where region is not null\n",
    "    and state  is not null\n",
    "    and city   is not null\n",
    "    and postal_code is not null\n",
    "),\n",
    "dedup as (\n",
    "  select region, state, city, postal_code, geo_key\n",
    "  from temp\n",
    "  where rn = 1\n",
    ")\n",
    "\n",
    "merge into main.retail_gold.geodim as g\n",
    "using dedup as d\n",
    "on g.geo_id = d.geo_key\n",
    "when matched and (\n",
    "     g.region      <> d.region\n",
    "  or g.state       <> d.state\n",
    "  or g.city        <> d.city\n",
    "  or g.postal_code <> d.postal_code\n",
    ") then update set\n",
    "  region      = d.region,\n",
    "  state       = d.state,\n",
    "  city        = d.city,\n",
    "  postal_code = d.postal_code,\n",
    "  updated_at  = current_timestamp()\n",
    "when not matched then\n",
    "  insert (region, state, city, postal_code)\n",
    "  values (d.region, d.state, d.city, d.postal_code);\n"
   ]
  },
  {
   "cell_type": "markdown",
   "metadata": {
    "application/vnd.databricks.v1+cell": {
     "cellMetadata": {
      "byteLimit": 2048000,
      "rowLimit": 10000
     },
     "inputWidgets": {},
     "nuid": "d95b4e02-16a8-4d8d-836f-0a8ef20e42dd",
     "showTitle": false,
     "tableResultSettingsMap": {},
     "title": ""
    }
   },
   "source": [
    "# Step 4 FactSales"
   ]
  },
  {
   "cell_type": "code",
   "execution_count": 0,
   "metadata": {
    "application/vnd.databricks.v1+cell": {
     "cellMetadata": {
      "byteLimit": 2048000,
      "implicitDf": true,
      "rowLimit": 10000
     },
     "inputWidgets": {},
     "nuid": "afb45e67-076d-4afa-98d0-d353c5af5ad3",
     "showTitle": false,
     "tableResultSettingsMap": {},
     "title": ""
    }
   },
   "outputs": [],
   "source": [
    "%sql\n",
    "create or replace table main.retail_gold.FactSales (\n",
    "  order_line_id string not null\n",
    "    comment \"Unique identifier for order line. Used as primary key\",\n",
    "  \n",
    "  order_id string not null\n",
    "    comment 'Unique identifier for order',\n",
    "  \n",
    "  geo_id string not null\n",
    "    comment 'Foreign key to GeoDim.geo_id. Deterministic key made of hashed region, state, city, postal code',\n",
    "  \n",
    "  product_id string not null\n",
    "    comment 'Foreign key to ProductDim.product_id',\n",
    "\n",
    "  order_date_sk int not null\n",
    "    comment 'FK to DateDim.date_sk Date of order',\n",
    "  \n",
    "  ship_date_sk int\n",
    "    comment 'FK to DateDim.date_sk Ship date',\n",
    "\n",
    "  quantity int not null\n",
    "    comment 'Product order quantity',\n",
    "  \n",
    "  discount decimal(9,4) not null\n",
    "    comment 'Product discount fraction',\n",
    "  \n",
    "  sales decimal(9,4) not null\n",
    "    comment 'Product sales for the line',\n",
    "  \n",
    "  profit decimal(18,2) not null\n",
    "    comment 'Total profit for the line. sales - cost',\n",
    "  \n",
    "  created_at timestamp not null default current_timestamp()\n",
    "    comment 'Timestamp of creation',\n",
    "\n",
    "  updated_at timestamp not null default current_timestamp()\n",
    "    comment 'Timestamp of last update'\n",
    ")\n",
    "using delta\n",
    "comment 'Fact sales table. Order line grain'\n",
    "TBLPROPERTIES(\n",
    "  'delta.feature.allowColumnDefaults' = 'supported')"
   ]
  },
  {
   "cell_type": "markdown",
   "metadata": {
    "application/vnd.databricks.v1+cell": {
     "cellMetadata": {},
     "inputWidgets": {},
     "nuid": "69806e1e-1041-405f-94fa-8d4a71fa86c4",
     "showTitle": false,
     "tableResultSettingsMap": {},
     "title": ""
    }
   },
   "source": [
    "## Filling FactSales"
   ]
  },
  {
   "cell_type": "code",
   "execution_count": 0,
   "metadata": {
    "application/vnd.databricks.v1+cell": {
     "cellMetadata": {
      "byteLimit": 2048000,
      "implicitDf": true,
      "rowLimit": 10000
     },
     "inputWidgets": {},
     "nuid": "3881305f-4290-4e1b-bf05-52129423ebed",
     "showTitle": false,
     "tableResultSettingsMap": {},
     "title": ""
    }
   },
   "outputs": [],
   "source": [
    "%sql\n",
    "with temp as (\n",
    "  select\n",
    "    cast(row_id as string) as order_line_id,\n",
    "    trim(order_id) as order_id,\n",
    "    upper(trim(product_id)) as product_id,\n",
    "\n",
    "    initcap(trim(region)) as region,\n",
    "    initcap(trim(state))  as state,\n",
    "    initcap(trim(city))   as city,\n",
    "    lpad(substring(regexp_replace(trim(postal_code), '\\\\D', ''), 1, 5), 5, '0') as postal_code,\n",
    "    \n",
    "    cast(date_format(order_date, 'yyyyMMdd') as int) as order_date_sk,\n",
    "    cast(date_format(ship_date, 'yyyyMMdd') as int) as ship_date_sk,\n",
    "    \n",
    "    cast(quantity as int) as quantity,\n",
    "    cast(discount as decimal(9,4)) as discount,\n",
    "    cast(sales as decimal(18,2)) as sales,\n",
    "    cast(profit as decimal(18,2)) as profit\n",
    "  from main.retail.superstore_silver\n",
    "  where order_id is not null and product_id is not null and order_date is not null\n",
    "),\n",
    "\n",
    "temp_geo as (\n",
    "  select\n",
    "    t.*, sha2(concat_ws('||',\n",
    "      lower(trim(t.region)),\n",
    "      lower(trim(t.state)),\n",
    "      lower(trim(t.city)),\n",
    "      t.postal_code\n",
    "    ), 256) as geo_id\n",
    "  from temp t\n",
    ")\n",
    "\n",
    "merge into main.retail_gold.factsales f\n",
    "using temp_geo t\n",
    "on f.order_line_id = t.order_line_id\n",
    "\n",
    "when matched then update set\n",
    "  f.order_id = t.order_id,\n",
    "  f.geo_id = t.geo_id,\n",
    "  f.product_id = t.product_id,\n",
    "  f.order_date_sk = t.order_date_sk,\n",
    "  f.ship_date_sk = t.ship_date_sk,\n",
    "  f.quantity = t.quantity,\n",
    "  f.discount = t.discount,\n",
    "  f.sales = t.sales,\n",
    "  f.profit = t.profit,\n",
    "  f.updated_at = current_timestamp()\n",
    "when not matched then insert (\n",
    "  order_line_id,\n",
    "  order_id,\n",
    "  geo_id,\n",
    "  product_id,\n",
    "  order_date_sk,\n",
    "  ship_date_sk,\n",
    "  quantity,\n",
    "  discount,\n",
    "  sales,\n",
    "  profit\n",
    ") values (\n",
    "  t.order_line_id,\n",
    "  t.order_id, \n",
    "  t.geo_id,\n",
    "  t.product_id,\n",
    "  t.order_date_sk,\n",
    "  t.ship_date_sk,\n",
    "  t.quantity,\n",
    "  t.discount,\n",
    "  t.sales,\n",
    "  t.profit\n",
    ");"
   ]
  },
  {
   "cell_type": "code",
   "execution_count": 0,
   "metadata": {
    "application/vnd.databricks.v1+cell": {
     "cellMetadata": {
      "byteLimit": 2048000,
      "implicitDf": true,
      "rowLimit": 10000
     },
     "inputWidgets": {},
     "nuid": "126a48d0-8ac4-4ad7-90d2-2f2e3f837d8d",
     "showTitle": false,
     "tableResultSettingsMap": {},
     "title": ""
    }
   },
   "outputs": [],
   "source": [
    "%sql\n",
    "-- Check the number of rows number = number of distinct order_line_ids\n",
    "select count(*) n, count(distinct order_line_id) n_distinct from main.retail_gold.factsales;"
   ]
  },
  {
   "cell_type": "code",
   "execution_count": 0,
   "metadata": {
    "application/vnd.databricks.v1+cell": {
     "cellMetadata": {
      "byteLimit": 2048000,
      "implicitDf": true,
      "rowLimit": 10000
     },
     "inputWidgets": {},
     "nuid": "420fa5b9-2ebe-410f-b27c-7da4d70d458f",
     "showTitle": false,
     "tableResultSettingsMap": {},
     "title": ""
    }
   },
   "outputs": [],
   "source": [
    "%sql\n",
    "-- product_id should be 1-1 with productdim\n",
    "select\n",
    "  product_id\n",
    "from main.retail_gold.factsales f\n",
    "left anti join main.retail_gold.productdim p\n",
    "on f.product_id = p.product_id;"
   ]
  },
  {
   "cell_type": "code",
   "execution_count": 0,
   "metadata": {
    "application/vnd.databricks.v1+cell": {
     "cellMetadata": {
      "byteLimit": 2048000,
      "implicitDf": true,
      "rowLimit": 10000
     },
     "inputWidgets": {},
     "nuid": "f23232ab-abfd-4b18-bc7a-3f906a2acf88",
     "showTitle": false,
     "tableResultSettingsMap": {},
     "title": ""
    }
   },
   "outputs": [],
   "source": [
    "%sql\n",
    "-- geo_id should be 1-1 with geodim\n",
    "select\n",
    "  geo_id\n",
    "from main.retail_gold.factsales f\n",
    "left anti join main.retail_gold.productdim p\n",
    "on f.product_id = p.product_id;"
   ]
  },
  {
   "cell_type": "markdown",
   "metadata": {
    "application/vnd.databricks.v1+cell": {
     "cellMetadata": {},
     "inputWidgets": {},
     "nuid": "41dbc09f-b8c7-481c-9506-09acb38782ed",
     "showTitle": false,
     "tableResultSettingsMap": {},
     "title": ""
    }
   },
   "source": [
    "# Step 5 CustomerDim table"
   ]
  },
  {
   "cell_type": "code",
   "execution_count": 0,
   "metadata": {
    "application/vnd.databricks.v1+cell": {
     "cellMetadata": {
      "byteLimit": 2048000,
      "implicitDf": true,
      "rowLimit": 10000
     },
     "inputWidgets": {},
     "nuid": "e4bd02e2-0085-45a2-93be-2f5f1f13f86b",
     "showTitle": false,
     "tableResultSettingsMap": {},
     "title": ""
    }
   },
   "outputs": [],
   "source": [
    "%sql\n",
    "create or replace table main.retail_gold.CustomerDim (\n",
    "  customer_id string not null\n",
    "    comment 'Primary key. Unique identifier for customer',\n",
    "\n",
    "  customer_name string not null\n",
    "    comment 'Full customer name',\n",
    "\n",
    "  segment string not null\n",
    "    comment 'Customer segment (Consumer, Corporate, Home Office)',\n",
    "\n",
    "  row_hash string generated always as (\n",
    "    sha2(\n",
    "      concat_ws('||',\n",
    "        lower(trim(customer_id)),\n",
    "        lower(trim(customer_name)),\n",
    "        lower(trim(segment))\n",
    "      ), 256\n",
    "    )\n",
    "  )\n",
    "    comment 'SHA2-256 hash of business attributes for change detection',\n",
    "\n",
    "  created_at timestamp not null default current_timestamp()\n",
    "    comment 'Timestamp of creation',\n",
    "\n",
    "  updated_at timestamp not null default current_timestamp()\n",
    "    comment 'Timestamp of last update'\n",
    ")\n",
    "using delta\n",
    "comment 'Customer dimension (Type-1; overwrite on change)'\n",
    "tblproperties(\n",
    "  'delta.feature.allowColumnDefaults' = 'supported'\n",
    ");\n",
    "\n",
    "select * from main.retail_gold.CustomerDim limit 1;"
   ]
  },
  {
   "cell_type": "markdown",
   "metadata": {
    "application/vnd.databricks.v1+cell": {
     "cellMetadata": {},
     "inputWidgets": {},
     "nuid": "7e2d8edf-13cb-42e7-b2fc-44552608f396",
     "showTitle": false,
     "tableResultSettingsMap": {},
     "title": ""
    }
   },
   "source": [
    "## Fill CustomerDim"
   ]
  },
  {
   "cell_type": "code",
   "execution_count": 0,
   "metadata": {
    "application/vnd.databricks.v1+cell": {
     "cellMetadata": {
      "byteLimit": 2048000,
      "implicitDf": true,
      "rowLimit": 10000
     },
     "inputWidgets": {},
     "nuid": "27ed69a5-8bfe-4147-95b8-9f4db1ff1e47",
     "showTitle": false,
     "tableResultSettingsMap": {},
     "title": ""
    }
   },
   "outputs": [],
   "source": [
    "%sql\n",
    "merge into main.retail_gold.CustomerDim as d\n",
    "using (\n",
    "  select\n",
    "    trim(customer_id)   as customer_id,\n",
    "    trim(customer_name) as customer_name,\n",
    "    initcap(trim(segment)) as segment\n",
    "  from main.retail.superstore_silver\n",
    "  group by 1,2,3\n",
    ") s\n",
    "on d.customer_id = s.customer_id\n",
    "when matched and d.row_hash <> sha2(concat_ws('||',\n",
    "  lower(trim(s.customer_id)),\n",
    "  lower(trim(s.customer_name)),\n",
    "  lower(trim(s.segment))\n",
    "),256) then\n",
    "  update set\n",
    "    customer_name = s.customer_name,\n",
    "    segment       = s.segment,\n",
    "    updated_at    = current_timestamp()\n",
    "when not matched then\n",
    "  insert (customer_id, customer_name, segment) values (s.customer_id, s.customer_name, s.segment);"
   ]
  },
  {
   "cell_type": "code",
   "execution_count": 0,
   "metadata": {
    "application/vnd.databricks.v1+cell": {
     "cellMetadata": {
      "byteLimit": 2048000,
      "implicitDf": true,
      "rowLimit": 10000
     },
     "inputWidgets": {},
     "nuid": "767f0d1b-4ff8-45b2-8d09-0781a9663a3c",
     "showTitle": false,
     "tableResultSettingsMap": {},
     "title": ""
    }
   },
   "outputs": [],
   "source": [
    "%sql\n",
    "alter table main.retail_gold.FactSales\n",
    "add column customer_id string comment 'FK to CustomerDim.customer_id';"
   ]
  },
  {
   "cell_type": "code",
   "execution_count": 0,
   "metadata": {
    "application/vnd.databricks.v1+cell": {
     "cellMetadata": {
      "byteLimit": 2048000,
      "implicitDf": true,
      "rowLimit": 10000
     },
     "inputWidgets": {},
     "nuid": "8885920c-afbb-4909-aa2e-83c2df77ebc8",
     "showTitle": false,
     "tableResultSettingsMap": {},
     "title": ""
    }
   },
   "outputs": [],
   "source": [
    "%sql\n",
    "create or replace temp view order_customer_ids as (\n",
    "  select\n",
    "    trim(order_id) as order_id,\n",
    "    trim(customer_id) as customer_id\n",
    "  from main.retail.superstore_silver\n",
    "  group by 1,2);\n"
   ]
  },
  {
   "cell_type": "code",
   "execution_count": 0,
   "metadata": {
    "application/vnd.databricks.v1+cell": {
     "cellMetadata": {
      "byteLimit": 2048000,
      "implicitDf": true,
      "rowLimit": 10000
     },
     "inputWidgets": {},
     "nuid": "7dcef2b7-336d-4fd3-be16-14d0c946d974",
     "showTitle": false,
     "tableResultSettingsMap": {},
     "title": ""
    }
   },
   "outputs": [],
   "source": [
    "%sql\n",
    "merge into main.retail_gold.factsales f\n",
    "using (\n",
    "  select\n",
    "    trim(order_id) as order_id,\n",
    "    trim(customer_id) as customer_id\n",
    "  from main.retail.superstore_silver\n",
    "  group by 1,2\n",
    ") o\n",
    "on f.order_id = o.order_id\n",
    "when matched then\n",
    "  update set f.customer_id = o.customer_id;"
   ]
  },
  {
   "cell_type": "code",
   "execution_count": 0,
   "metadata": {
    "application/vnd.databricks.v1+cell": {
     "cellMetadata": {
      "byteLimit": 2048000,
      "implicitDf": true,
      "rowLimit": 10000
     },
     "inputWidgets": {},
     "nuid": "d99535eb-93f2-4e4f-ba1b-add851e3d202",
     "showTitle": false,
     "tableResultSettingsMap": {},
     "title": ""
    }
   },
   "outputs": [],
   "source": [
    "%sql\n",
    "-- check sanity\n",
    "select\n",
    "    count(distinct customer_id) as num_custids, count(*) as num_rows\n",
    "from\n",
    "    main.retail_gold.CustomerDim;"
   ]
  },
  {
   "cell_type": "code",
   "execution_count": 0,
   "metadata": {
    "application/vnd.databricks.v1+cell": {
     "cellMetadata": {
      "byteLimit": 2048000,
      "implicitDf": true,
      "rowLimit": 10000
     },
     "inputWidgets": {},
     "nuid": "7be55103-a35c-4338-8b1e-8d3fd2d718ee",
     "showTitle": false,
     "tableResultSettingsMap": {},
     "title": ""
    }
   },
   "outputs": [],
   "source": [
    "%sql\n",
    "describe extended main.retail_gold.CustomerDim;"
   ]
  },
  {
   "cell_type": "code",
   "execution_count": 0,
   "metadata": {
    "application/vnd.databricks.v1+cell": {
     "cellMetadata": {},
     "inputWidgets": {},
     "nuid": "b2452b14-0373-4255-97e2-c4a5749fcdea",
     "showTitle": false,
     "tableResultSettingsMap": {},
     "title": ""
    }
   },
   "outputs": [],
   "source": []
  }
 ],
 "metadata": {
  "application/vnd.databricks.v1+notebook": {
   "computePreferences": null,
   "dashboards": [],
   "environmentMetadata": {
    "base_environment": "",
    "environment_version": "3"
   },
   "inputWidgetPreferences": null,
   "language": "python",
   "notebookMetadata": {
    "mostRecentlyExecutedCommandWithImplicitDF": {
     "commandId": 7528536243040001,
     "dataframes": [
      "_sqldf"
     ]
    },
    "pythonIndentUnit": 4
   },
   "notebookName": "Silver->Gold",
   "widgets": {}
  },
  "language_info": {
   "name": "python"
  }
 },
 "nbformat": 4,
 "nbformat_minor": 0
}
