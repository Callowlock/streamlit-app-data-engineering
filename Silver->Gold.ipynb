{
 "cells": [
  {
   "cell_type": "markdown",
   "metadata": {
    "application/vnd.databricks.v1+cell": {
     "cellMetadata": {},
     "inputWidgets": {},
     "nuid": "f8076418-b188-49f3-b828-5f897c04bcc4",
     "showTitle": false,
     "tableResultSettingsMap": {},
     "title": ""
    }
   },
   "source": [
    "# Step 1: Build DateDim table"
   ]
  },
  {
   "cell_type": "code",
   "execution_count": 0,
   "metadata": {
    "application/vnd.databricks.v1+cell": {
     "cellMetadata": {
      "byteLimit": 2048000,
      "implicitDf": true,
      "rowLimit": 10000
     },
     "collapsed": true,
     "inputWidgets": {},
     "nuid": "6daf7fb2-b3d4-46d0-843b-0dcfab18b71c",
     "showTitle": false,
     "tableResultSettingsMap": {},
     "title": ""
    }
   },
   "outputs": [],
   "source": [
    "%sql\n",
    "-- Extract min and max date\n",
    "SELECT\n",
    "  CAST(min(order_date) AS DATE)  AS d_min,\n",
    "  CAST(max(COALESCE(ship_date, order_date)) AS DATE) AS d_max\n",
    "FROM main.retail.superstore_silver;\n"
   ]
  },
  {
   "cell_type": "markdown",
   "metadata": {
    "application/vnd.databricks.v1+cell": {
     "cellMetadata": {},
     "inputWidgets": {},
     "nuid": "e70c069a-ceb9-4c93-bba8-4fae0e253661",
     "showTitle": false,
     "tableResultSettingsMap": {},
     "title": ""
    }
   },
   "source": [
    "## Creating DateDim"
   ]
  },
  {
   "cell_type": "code",
   "execution_count": 0,
   "metadata": {
    "application/vnd.databricks.v1+cell": {
     "cellMetadata": {
      "byteLimit": 2048000,
      "implicitDf": true,
      "rowLimit": 10000
     },
     "collapsed": true,
     "inputWidgets": {},
     "nuid": "d0f07614-1670-4b2a-a9c2-eaae4e36388a",
     "showTitle": false,
     "tableResultSettingsMap": {},
     "title": ""
    }
   },
   "outputs": [],
   "source": [
    "%sql\n",
    "\n",
    "create or replace table main.retail_gold.DateDim (\n",
    "\n",
    "  -- Core, non-generated columns\n",
    "  date DATE NOT NULL\n",
    "    COMMENT 'Calendar date (day grain)',\n",
    "  date_sk INT NOT NULL GENERATED ALWAYS AS (CAST(date_format(date,'yyyyMMdd') AS INT))\n",
    "    COMMENT 'Surrogate key YYYYMMDD, generated from date',\n",
    "  \n",
    "  -- Generated columns from date\n",
    "  day_of_week TINYINT NOT NULL GENERATED ALWAYS AS (\n",
    "    CAST(pmod(dayofweek(date) + 5, 7) + 1 AS TINYINT)\n",
    "    )\n",
    "    COMMENT '1=Mon,..., 7=Sun (ISO)',\n",
    "  \n",
    "  dow_name STRING NOT NULL GENERATED ALWAYS AS (date_format(date,'EEE'))\n",
    "    COMMENT 'Mon, Tue,..., Sun (ISO)',\n",
    "  \n",
    "  week SMALLINT NOT NULL  GENERATED ALWAYS AS (\n",
    "    CAST(weekofyear(date) AS SMALLINT)\n",
    "    )\n",
    "    COMMENT 'Week number 1 - 53',\n",
    "  \n",
    "  month tinyint NOT NULL GENERATED ALWAYS AS (\n",
    "    CAST(month(date) AS TINYINT)\n",
    "    )\n",
    "    COMMENT 'month number 1-12',\n",
    "  \n",
    "  month_name STRING NOT NULL GENERATED ALWAYS AS (date_format(date,'MMMM'))\n",
    "    COMMENT 'Jan, Feb,..., Dec',\n",
    "  \n",
    "  quarter tinyint NOT NULL GENERATED ALWAYS AS (CAST(quarter(date) AS TINYINT))\n",
    "    COMMENT 'quarter number 1-4',\n",
    "  \n",
    "  year smallint NOT NULL GENERATED ALWAYS AS (\n",
    "    CAST(year(date) AS SMALLINT)\n",
    "    )\n",
    "    COMMENT 'Gregorian year, not ISO',\n",
    "  \n",
    "  -- Period flags\n",
    "  is_month_start BOOLEAN NOT NULL GENERATED ALWAYS AS (\n",
    "    date = date_trunc('month', date)\n",
    "    )\n",
    "    COMMENT 'True if first day of month',\n",
    "\n",
    "  is_month_end BOOLEAN NOT NULL GENERATED ALWAYS AS (\n",
    "    date = last_day(date)\n",
    "    )\n",
    "    COMMENT 'True if last day of month',\n",
    "  \n",
    "  is_quarter_start BOOLEAN NOT NULL GENERATED ALWAYS AS (\n",
    "    date = date_trunc('quarter', date)\n",
    "    )\n",
    "    COMMENT 'True if first day of quarter',\n",
    "  \n",
    "  is_quarter_end BOOLEAN NOT NULL GENERATED ALWAYS AS (\n",
    "    date = last_day(date) AND quarter(date) <> quarter(date_add(date, 1))\n",
    "    )\n",
    "    COMMENT 'True if last day of quarter' \n",
    ")\n",
    "\n",
    "USING DELTA\n",
    "COMMENT 'Gold-Lite Date dimension (authoritative calendar ; one row per day)'\n",
    "TBLPROPERTIES (\n",
    "  delta.appendOnly = true\n",
    ");\n",
    "\n",
    "select * from main.retail_gold.datedim;"
   ]
  },
  {
   "cell_type": "markdown",
   "metadata": {
    "application/vnd.databricks.v1+cell": {
     "cellMetadata": {},
     "inputWidgets": {},
     "nuid": "9bf534f7-4860-4a39-a082-76fca987045e",
     "showTitle": false,
     "tableResultSettingsMap": {},
     "title": ""
    }
   },
   "source": [
    "## Filling DateDim"
   ]
  },
  {
   "cell_type": "code",
   "execution_count": 0,
   "metadata": {
    "application/vnd.databricks.v1+cell": {
     "cellMetadata": {
      "byteLimit": 2048000,
      "implicitDf": true,
      "rowLimit": 10000
     },
     "collapsed": true,
     "inputWidgets": {},
     "nuid": "328d69d9-ed25-4570-a600-67c4a10d0b3e",
     "showTitle": false,
     "tableResultSettingsMap": {},
     "title": ""
    }
   },
   "outputs": [],
   "source": [
    "%sql\n",
    "\n",
    "-- Extended date range to encompase entire years of date bounds\n",
    "WITH bounds AS (\n",
    "  SELECT\n",
    "    CAST('2011-01-01' AS DATE) AS d_min,\n",
    "    CAST('2015-12-31' AS DATE) AS d_max\n",
    "),\n",
    "calendar AS (\n",
    "  SELECT\n",
    "    explode(sequence(BOUNDS.d_min, BOUNDS.d_max)) AS date\n",
    "  FROM bounds\n",
    ")\n",
    "\n",
    "INSERT INTO main.retail_gold.DateDim(date)\n",
    "SELECT\n",
    "  c.date\n",
    "FROM calendar c\n",
    "LEFT ANTI JOIN main.retail_gold.datedim d ON c.date = d.date;\n",
    "\n",
    "SELECT * from main.retail_gold.DatEDiM limit 10;"
   ]
  },
  {
   "cell_type": "markdown",
   "metadata": {
    "application/vnd.databricks.v1+cell": {
     "cellMetadata": {},
     "inputWidgets": {},
     "nuid": "693718ae-2327-4a48-bc0e-deac9cf1bf2f",
     "showTitle": false,
     "tableResultSettingsMap": {},
     "title": ""
    }
   },
   "source": [
    "## Sanity checks on DateDim"
   ]
  },
  {
   "cell_type": "code",
   "execution_count": 0,
   "metadata": {
    "application/vnd.databricks.v1+cell": {
     "cellMetadata": {
      "byteLimit": 2048000,
      "implicitDf": true,
      "rowLimit": 10000
     },
     "inputWidgets": {},
     "nuid": "c757c7b3-f706-4eaf-9c15-35cc84015c0e",
     "showTitle": false,
     "tableResultSettingsMap": {},
     "title": ""
    }
   },
   "outputs": [],
   "source": [
    "%sql\n",
    "-- Range: Expect min_date 2011-01-01, max_date 2015-12-31\n",
    "SELECT min(date) AS min_date, max(date) AS max_date\n",
    "FROM main.retail_gold.datedim;"
   ]
  },
  {
   "cell_type": "code",
   "execution_count": 0,
   "metadata": {
    "application/vnd.databricks.v1+cell": {
     "cellMetadata": {
      "byteLimit": 2048000,
      "implicitDf": true,
      "rowLimit": 10000
     },
     "inputWidgets": {},
     "nuid": "70017066-f750-4af7-8299-52e7e60ab71b",
     "showTitle": false,
     "tableResultSettingsMap": {},
     "title": ""
    }
   },
   "outputs": [],
   "source": [
    "%sql\n",
    "-- Continuity: Expect no rows, datediff > 1 should evaluate to false in all cases.\n",
    "WITH ordered AS (\n",
    "  SELECT date, lag(date) OVER (ORDER BY date) AS prev_d\n",
    "  FROM main.retail_gold.datedim\n",
    ")\n",
    "SELECT date AS gap_starts_after\n",
    "FROM ordered\n",
    "WHERE prev_d IS NOT NULL AND datediff(date, prev_d) > 1;"
   ]
  },
  {
   "cell_type": "code",
   "execution_count": 0,
   "metadata": {
    "application/vnd.databricks.v1+cell": {
     "cellMetadata": {
      "byteLimit": 2048000,
      "implicitDf": true,
      "rowLimit": 10000
     },
     "inputWidgets": {},
     "nuid": "772959d3-ae82-4dea-85ed-aad7c57e9b9a",
     "showTitle": false,
     "tableResultSettingsMap": {},
     "title": ""
    }
   },
   "outputs": [],
   "source": [
    "%sql\n",
    "-- 3 Uniqueness of surrogate key: expect n = nd\n",
    "SELECT COUNT(*) AS n, COUNT(DISTINCT date_sk) AS nd\n",
    "FROM main.retail_gold.datedim;"
   ]
  },
  {
   "cell_type": "markdown",
   "metadata": {
    "application/vnd.databricks.v1+cell": {
     "cellMetadata": {},
     "inputWidgets": {},
     "nuid": "17e66a7c-93f1-463a-8e66-ed0672dc99a7",
     "showTitle": false,
     "tableResultSettingsMap": {},
     "title": ""
    }
   },
   "source": [
    "# Step 2: Build ProductDim table"
   ]
  },
  {
   "cell_type": "code",
   "execution_count": 0,
   "metadata": {
    "application/vnd.databricks.v1+cell": {
     "cellMetadata": {
      "byteLimit": 2048000,
      "implicitDf": true,
      "rowLimit": 10000
     },
     "inputWidgets": {},
     "nuid": "997c0e33-5bd5-4640-80f6-a7109019c1cd",
     "showTitle": false,
     "tableResultSettingsMap": {},
     "title": ""
    }
   },
   "outputs": [],
   "source": [
    "%sql\n",
    "create or replace table main.retail_gold.ProductDim (\n",
    "  product_id string not null\n",
    "    comment 'Primary key. Unique identifier for product',\n",
    "  \n",
    "  product_name string not null\n",
    "    comment 'The product\\'s name',\n",
    "\n",
    "  category string not null\n",
    "    comment 'Top-level product grouping',\n",
    "  \n",
    "  subcategory string not null\n",
    "    comment 'The product\\'s sub-category. Rolls up to category',\n",
    "\n",
    "  -- Hashing to quickly check for changes\n",
    "  row_hash string generated always as (\n",
    "    sha2(\n",
    "      concat_ws('||',\n",
    "        lower(TRIM(product_id)),\n",
    "        lower(TRIM(product_name)),\n",
    "        lower(TRIM(category)),\n",
    "        lower(TRIM(subcategory))\n",
    "      ),\n",
    "      256\n",
    "    )\n",
    "  )\n",
    "    comment \"SHA2-256 hash of business attributes for change detection\",\n",
    "\n",
    "  -- Timestamps to track changes\n",
    "  created_at timestamp not null default current_timestamp()\n",
    "    comment 'Timestamp of creation',\n",
    "\n",
    "  updated_at timestamp not null default current_timestamp()\n",
    "    comment 'Timestamp of last update'\n",
    ")\n",
    "\n",
    "USING DELTA\n",
    "COMMENT 'Gold-Lite Product dimension (Type-1; overwrite on change; one row per product)'\n",
    "TBLPROPERTIES(\n",
    "  'delta.feature.allowColumnDefaults' = 'supported'\n",
    "  );\n",
    "\n",
    "select * from main.retail_gold.ProductDim;"
   ]
  },
  {
   "cell_type": "markdown",
   "metadata": {
    "application/vnd.databricks.v1+cell": {
     "cellMetadata": {},
     "inputWidgets": {},
     "nuid": "2369ee14-b339-4af9-ab6a-b44369b8dd6b",
     "showTitle": false,
     "tableResultSettingsMap": {},
     "title": ""
    }
   },
   "source": [
    "## Fill ProductDim table"
   ]
  },
  {
   "cell_type": "code",
   "execution_count": 0,
   "metadata": {
    "application/vnd.databricks.v1+cell": {
     "cellMetadata": {
      "byteLimit": 2048000,
      "implicitDf": true,
      "rowLimit": 10000
     },
     "inputWidgets": {},
     "nuid": "a70751a4-fe60-4b81-bd70-0226d059be89",
     "showTitle": false,
     "tableResultSettingsMap": {},
     "title": ""
    }
   },
   "outputs": [],
   "source": [
    "%sql\n",
    "MERGE INTO main.retail_gold.ProductDim AS t\n",
    "\n",
    "USING (\n",
    "  SELECT\n",
    "    UPPER(TRIM(product_id)) AS product_id,\n",
    "    TRIM(product_name)      AS product_name,\n",
    "    TRIM(category)          AS category,\n",
    "    TRIM(sub_category)      AS subcategory,\n",
    "    ROW_NUMBER() OVER (\n",
    "      PARTITION BY UPPER(TRIM(product_id))\n",
    "      ORDER BY TRIM(product_name)\n",
    "    ) AS rn,\n",
    "\n",
    "    sha2(\n",
    "      concat_ws('||',\n",
    "        lower(trim(product_name)),\n",
    "        lower(trim(sub_category)),\n",
    "        lower(trim(category))\n",
    "    ), \n",
    "    256\n",
    "    ) AS incoming_hash\n",
    "  FROM main.retail.superstore_silver\n",
    "  WHERE product_id IS NOT NULL AND TRIM(product_id) <> ''\n",
    ") s\n",
    "ON t.product_id = s.product_id\n",
    "\n",
    "/* Type-1 overwrite only when business attrs truly changed */\n",
    "WHEN MATCHED AND s.rn = 1 AND t.row_hash <> s.incoming_hash THEN\n",
    "  UPDATE SET\n",
    "    product_name = s.product_name,\n",
    "    category     = s.category,\n",
    "    subcategory  = s.subcategory,\n",
    "    updated_at   = current_timestamp()\n",
    "\n",
    "\n",
    "WHEN NOT MATCHED AND s.rn = 1 THEN\n",
    "  INSERT (product_id, product_name, category, subcategory)\n",
    "  VALUES (s.product_id, s.product_name, s.category, s.subcategory);\n"
   ]
  },
  {
   "cell_type": "code",
   "execution_count": 0,
   "metadata": {
    "application/vnd.databricks.v1+cell": {
     "cellMetadata": {
      "byteLimit": 2048000,
      "implicitDf": true,
      "rowLimit": 10000
     },
     "inputWidgets": {},
     "nuid": "e1667e64-f3f2-4028-b56f-51b1f93e02b7",
     "showTitle": false,
     "tableResultSettingsMap": {},
     "title": ""
    }
   },
   "outputs": [],
   "source": []
  },
  {
   "cell_type": "code",
   "execution_count": 0,
   "metadata": {
    "application/vnd.databricks.v1+cell": {
     "cellMetadata": {},
     "inputWidgets": {},
     "nuid": "68351d7d-9ad7-4785-87d4-b5f090b5662a",
     "showTitle": false,
     "tableResultSettingsMap": {},
     "title": ""
    }
   },
   "outputs": [],
   "source": []
  }
 ],
 "metadata": {
  "application/vnd.databricks.v1+notebook": {
   "computePreferences": null,
   "dashboards": [],
   "environmentMetadata": {
    "base_environment": "",
    "environment_version": "3"
   },
   "inputWidgetPreferences": null,
   "language": "python",
   "notebookMetadata": {
    "mostRecentlyExecutedCommandWithImplicitDF": {
     "commandId": 5757395623126318,
     "dataframes": [
      "_sqldf"
     ]
    },
    "pythonIndentUnit": 4
   },
   "notebookName": "Silver->Gold",
   "widgets": {}
  },
  "language_info": {
   "name": "python"
  }
 },
 "nbformat": 4,
 "nbformat_minor": 0
}
