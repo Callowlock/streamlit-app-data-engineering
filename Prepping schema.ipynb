{
 "cells": [
  {
   "cell_type": "code",
   "execution_count": 0,
   "metadata": {
    "application/vnd.databricks.v1+cell": {
     "cellMetadata": {
      "byteLimit": 2048000,
      "implicitDf": true,
      "rowLimit": 10000
     },
     "inputWidgets": {},
     "nuid": "5083aa6c-18b1-461f-8f2b-4378592e5ba2",
     "showTitle": false,
     "tableResultSettingsMap": {},
     "title": ""
    }
   },
   "outputs": [],
   "source": [
    "%sql\n",
    "CREATE CATALOG IF NOT EXISTS main;\n",
    "USE CATALOG main;\n",
    "\n",
    "CREATE SCHEMA IF NOT EXISTS retail;\n",
    "USE SCHEMA retail;\n",
    "\n",
    "CREATE VOLUME IF NOT EXISTS raw;\n"
   ]
  },
  {
   "cell_type": "code",
   "execution_count": 0,
   "metadata": {
    "application/vnd.databricks.v1+cell": {
     "cellMetadata": {
      "byteLimit": 2048000,
      "implicitDf": true,
      "rowLimit": 10000
     },
     "inputWidgets": {},
     "nuid": "bf8adbf3-96aa-47a3-914b-87d9bce4b8cb",
     "showTitle": false,
     "tableResultSettingsMap": {},
     "title": ""
    }
   },
   "outputs": [],
   "source": [
    "%sql\n",
    "LIST '/Volumes/main/retail/raw/';\n"
   ]
  },
  {
   "cell_type": "code",
   "execution_count": 0,
   "metadata": {
    "application/vnd.databricks.v1+cell": {
     "cellMetadata": {
      "byteLimit": 2048000,
      "rowLimit": 10000
     },
     "inputWidgets": {},
     "nuid": "afcfca57-cba6-42b5-90b5-40b55194c8cf",
     "showTitle": false,
     "tableResultSettingsMap": {},
     "title": ""
    }
   },
   "outputs": [],
   "source": [
    "import pandas as pd\n",
    "\n",
    "pdf = pd.read_excel(\"/Volumes/main/retail/raw/Superstore.xlsx\")\n",
    "\n",
    "def clean_col(name: str) -> str:\n",
    "    return (\n",
    "        name.strip()\n",
    "            .lower()\n",
    "            .replace(\" \", \"_\")\n",
    "            .replace(\"-\", \"_\")\n",
    "            .replace(\"/\", \"_\")\n",
    "            .replace(\"(\", \"\")\n",
    "            .replace(\")\", \"\")\n",
    "    )\n",
    "\n",
    "pdf.columns = [clean_col(c) for c in pdf.columns]\n",
    "\n",
    "\n",
    "print(pdf.columns.tolist())\n"
   ]
  },
  {
   "cell_type": "code",
   "execution_count": 0,
   "metadata": {
    "application/vnd.databricks.v1+cell": {
     "cellMetadata": {
      "byteLimit": 2048000,
      "rowLimit": 10000
     },
     "inputWidgets": {},
     "nuid": "b21cf7c3-052e-4ca0-9d0a-cababffe4600",
     "showTitle": false,
     "tableResultSettingsMap": {},
     "title": ""
    }
   },
   "outputs": [],
   "source": [
    "# 4. Convert → Spark DataFrame\n",
    "df = spark.createDataFrame(pdf)\n",
    "\n",
    "# 5. Write Bronze Delta\n",
    "df.write.mode(\"overwrite\").format(\"delta\").saveAsTable(\"main.retail.superstore_bronze\")"
   ]
  },
  {
   "cell_type": "code",
   "execution_count": 0,
   "metadata": {
    "application/vnd.databricks.v1+cell": {
     "cellMetadata": {
      "byteLimit": 2048000,
      "implicitDf": true,
      "rowLimit": 10000
     },
     "inputWidgets": {},
     "nuid": "9ca5d3d9-72a4-48e2-b738-d2e110efa59e",
     "showTitle": false,
     "tableResultSettingsMap": {},
     "title": ""
    }
   },
   "outputs": [],
   "source": [
    "%sql\n",
    "USE CATALOG main;\n",
    "USE SCHEMA retail;\n",
    "\n",
    "CREATE OR REPLACE TABLE main.retail.superstore_silver AS\n",
    "SELECT\n",
    "  /* Keys */\n",
    "  TRY_CAST(row_id AS INT)                   AS row_id,\n",
    "  CAST(order_id AS STRING)                  AS order_id,\n",
    "  CAST(customer_id AS STRING)               AS customer_id,\n",
    "  CAST(product_id AS STRING)                AS product_id,\n",
    "\n",
    "  /* Dates – handle multiple common formats */\n",
    "  COALESCE(\n",
    "    to_date(order_date, 'yyyy-MM-dd'),\n",
    "    to_date(order_date, 'M/d/yyyy')\n",
    "  )                                         AS order_date,\n",
    "\n",
    "  COALESCE(\n",
    "    to_date(ship_date, 'yyyy-MM-dd'),\n",
    "    to_date(ship_date, 'M/d/yyyy')\n",
    "  )                                         AS ship_date,\n",
    "\n",
    "  /* Text dimensions (trim) */\n",
    "  TRIM(ship_mode)                           AS ship_mode,\n",
    "  TRIM(customer_name)                       AS customer_name,\n",
    "  TRIM(segment)                             AS segment,\n",
    "  TRIM(country)                             AS country,\n",
    "  TRIM(city)                                AS city,\n",
    "  TRIM(state)                               AS state,\n",
    "  TRIM(postal_code)                         AS postal_code,\n",
    "  TRIM(region)                              AS region,\n",
    "  TRIM(category)                            AS category,\n",
    "  TRIM(sub_category)                        AS sub_category,\n",
    "  TRIM(product_name)                        AS product_name,\n",
    "\n",
    "  /* Measures */\n",
    "  TRY_CAST(sales AS DOUBLE)                 AS sales,\n",
    "  TRY_CAST(quantity AS INT)                 AS quantity,\n",
    "  TRY_CAST(discount AS DOUBLE)              AS discount,\n",
    "  TRY_CAST(profit AS DOUBLE)                AS profit,\n",
    "\n",
    "  /* Derived */\n",
    "  date_trunc('month',\n",
    "    COALESCE(to_date(order_date, 'yyyy-MM-dd'),\n",
    "             to_date(order_date, 'M/d/yyyy'))\n",
    "  )                                         AS order_month,\n",
    "\n",
    "  CASE WHEN TRY_CAST(sales AS DOUBLE) IS NOT NULL\n",
    "            AND TRY_CAST(sales AS DOUBLE) <> 0\n",
    "       THEN TRY_CAST(profit AS DOUBLE) / TRY_CAST(sales AS DOUBLE)\n",
    "  END                                       AS profit_margin\n",
    "FROM main.retail.superstore_bronze;\n",
    "\n",
    "SELECT * FROM main.retail.superstore_silver;"
   ]
  },
  {
   "cell_type": "code",
   "execution_count": 0,
   "metadata": {
    "application/vnd.databricks.v1+cell": {
     "cellMetadata": {
      "byteLimit": 2048000,
      "implicitDf": true,
      "rowLimit": 10000
     },
     "inputWidgets": {},
     "nuid": "c80658c0-29e2-4c4d-b31e-6eafed2ba1c0",
     "showTitle": false,
     "tableResultSettingsMap": {},
     "title": ""
    }
   },
   "outputs": [],
   "source": [
    "%sql\n",
    "SELECT COUNT(*) AS rows, MIN(order_date) AS min_order_date, MAX(order_date) AS max_order_date\n",
    "FROM main.retail.superstore_silver;\n",
    "\n"
   ]
  },
  {
   "cell_type": "code",
   "execution_count": 0,
   "metadata": {
    "application/vnd.databricks.v1+cell": {
     "cellMetadata": {
      "byteLimit": 2048000,
      "implicitDf": true,
      "rowLimit": 10000
     },
     "inputWidgets": {},
     "nuid": "4d9024b0-16fb-4a88-a5c5-eaf315dc71df",
     "showTitle": false,
     "tableResultSettingsMap": {},
     "title": ""
    }
   },
   "outputs": [],
   "source": [
    "%sql\n",
    "SELECT SUM(sales) AS total_sales, SUM(profit) AS total_profit\n",
    "FROM main.retail.superstore_silver;"
   ]
  },
  {
   "cell_type": "code",
   "execution_count": 0,
   "metadata": {
    "application/vnd.databricks.v1+cell": {
     "cellMetadata": {},
     "inputWidgets": {},
     "nuid": "ccd2ed4c-8c41-4e0e-8e67-bfed8b30c17d",
     "showTitle": false,
     "tableResultSettingsMap": {},
     "title": ""
    }
   },
   "outputs": [],
   "source": []
  }
 ],
 "metadata": {
  "application/vnd.databricks.v1+notebook": {
   "computePreferences": null,
   "dashboards": [],
   "environmentMetadata": {
    "base_environment": "",
    "environment_version": "3"
   },
   "inputWidgetPreferences": null,
   "language": "python",
   "notebookMetadata": {
    "mostRecentlyExecutedCommandWithImplicitDF": {
     "commandId": 8954020401451950,
     "dataframes": [
      "_sqldf"
     ]
    },
    "pythonIndentUnit": 4
   },
   "notebookName": "Prepping schema",
   "widgets": {}
  },
  "language_info": {
   "name": "python"
  }
 },
 "nbformat": 4,
 "nbformat_minor": 0
}
