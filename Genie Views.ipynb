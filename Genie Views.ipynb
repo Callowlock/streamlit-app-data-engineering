{
 "cells": [
  {
   "cell_type": "code",
   "execution_count": 0,
   "metadata": {
    "application/vnd.databricks.v1+cell": {
     "cellMetadata": {},
     "inputWidgets": {},
     "nuid": "9757caa2-0b63-4fd7-9cc8-aee679c30cef",
     "showTitle": false,
     "tableResultSettingsMap": {},
     "title": ""
    }
   },
   "outputs": [],
   "source": [
    "# Daily Sales Genie view"
   ]
  },
  {
   "cell_type": "code",
   "execution_count": 0,
   "metadata": {
    "application/vnd.databricks.v1+cell": {
     "cellMetadata": {
      "byteLimit": 2048000,
      "implicitDf": true,
      "rowLimit": 10000
     },
     "inputWidgets": {},
     "nuid": "95eb247e-683d-4d69-9502-f0db9e47302d",
     "showTitle": false,
     "tableResultSettingsMap": {},
     "title": ""
    }
   },
   "outputs": [],
   "source": [
    "%sql\n",
    "create or replace view main.retail_gold.vw_sales_daily as\n",
    "select\n",
    "    d.date                as order_date,\n",
    "    d.date_sk             as order_date_sk,\n",
    "    d.year                as order_year,\n",
    "    d.quarter             as order_quarter,\n",
    "    d.month               as order_month,\n",
    "    d.month_name          as order_month_name,\n",
    "    d.week                as order_week,\n",
    "    d.day_of_week         as order_dow,\n",
    "    d.dow_name            as order_dow_name,\n",
    "\n",
    "    f.order_line_id,\n",
    "    f.order_id,\n",
    "    f.product_id,\n",
    "    f.customer_id,\n",
    "    f.geo_id,\n",
    "\n",
    "    p.product_name,\n",
    "    p.subcategory,\n",
    "    p.category,\n",
    "\n",
    "    g.region,\n",
    "    g.state,\n",
    "    g.city,\n",
    "    g.postal_code,\n",
    "\n",
    "    c.customer_name,\n",
    "    c.segment as customer_segment,\n",
    "\n",
    "    f.sales,\n",
    "    f.profit,\n",
    "    f.quantity,\n",
    "    f.discount,\n",
    "\n",
    "    case when f.sales <> 0 then f.profit / f.sales end as profit_margin\n",
    "\n",
    "from main.retail_gold.FactSales   f\n",
    "join main.retail_gold.DateDim     d on f.order_date_sk = d.date_sk\n",
    "join main.retail_gold.ProductDim  p on f.product_id    = p.product_id\n",
    "join main.retail_gold.GeoDim      g on f.geo_id        = g.geo_id\n",
    "left join main.retail_gold.CustomerDim c on f.customer_id = c.customer_id;"
   ]
  },
  {
   "cell_type": "code",
   "execution_count": 0,
   "metadata": {
    "application/vnd.databricks.v1+cell": {
     "cellMetadata": {},
     "inputWidgets": {},
     "nuid": "7f195986-1c26-4c5e-adcc-5ae642e5a292",
     "showTitle": false,
     "tableResultSettingsMap": {},
     "title": ""
    }
   },
   "outputs": [],
   "source": [
    "# Monthly sales Genie view"
   ]
  },
  {
   "cell_type": "code",
   "execution_count": 0,
   "metadata": {
    "application/vnd.databricks.v1+cell": {
     "cellMetadata": {
      "byteLimit": 2048000,
      "implicitDf": true,
      "rowLimit": 10000
     },
     "inputWidgets": {},
     "nuid": "d2864bda-e7ee-430d-b723-698c2cb35225",
     "showTitle": false,
     "tableResultSettingsMap": {},
     "title": ""
    }
   },
   "outputs": [],
   "source": [
    "%sql\n",
    "create or replace view main.retail_gold.vw_sales_monthly as\n",
    "select\n",
    "    d.year,\n",
    "    d.quarter,\n",
    "    d.month,\n",
    "    d.month_name,\n",
    "    sum(f.sales)                  as sales,\n",
    "    sum(f.profit)                 as profit,\n",
    "    sum(f.quantity)               as quantity,\n",
    "    sum(f.discount)               as discount,\n",
    "    count(distinct f.order_id)    as orders,\n",
    "    case when sum(f.sales) <> 0\n",
    "         then sum(f.profit) / sum(f.sales) end        as profit_margin,\n",
    "    case when count(distinct f.order_id) <> 0\n",
    "         then sum(f.sales) / count(distinct f.order_id) end as avg_order_value\n",
    "from main.retail_gold.FactSales f\n",
    "join main.retail_gold.DateDim   d on f.order_date_sk = d.date_sk\n",
    "group by d.year, d.quarter, d.month, d.month_name;\n"
   ]
  },
  {
   "cell_type": "code",
   "execution_count": 0,
   "metadata": {
    "application/vnd.databricks.v1+cell": {
     "cellMetadata": {},
     "inputWidgets": {},
     "nuid": "1a27bee1-f3d5-4fd2-a354-b8d7b4a82320",
     "showTitle": false,
     "tableResultSettingsMap": {},
     "title": ""
    }
   },
   "outputs": [],
   "source": [
    "# Topline metrics Genie view"
   ]
  },
  {
   "cell_type": "code",
   "execution_count": 0,
   "metadata": {
    "application/vnd.databricks.v1+cell": {
     "cellMetadata": {
      "byteLimit": 2048000,
      "implicitDf": true,
      "rowLimit": 10000
     },
     "inputWidgets": {},
     "nuid": "ced2c215-0939-4ffe-a7d8-ac880954d523",
     "showTitle": false,
     "tableResultSettingsMap": {},
     "title": ""
    }
   },
   "outputs": [],
   "source": [
    "%sql\n",
    "create or replace view main.retail_gold.vw_topline as\n",
    "with agg as (\n",
    "  select\n",
    "      d.year,\n",
    "      d.quarter,\n",
    "      d.month,\n",
    "      d.month_name,\n",
    "      sum(f.sales)                as sales,\n",
    "      sum(f.profit)               as profit,\n",
    "      sum(f.quantity)             as quantity,\n",
    "      sum(f.discount)             as discount,\n",
    "      count(distinct f.order_id)  as orders\n",
    "  from main.retail_gold.FactSales f\n",
    "  join main.retail_gold.DateDim   d on f.order_date_sk = d.date_sk\n",
    "  group by grouping sets (\n",
    "    (d.year),\n",
    "    (d.year, d.quarter),\n",
    "    (d.year, d.month, d.month_name)\n",
    "  )\n",
    ")\n",
    "select\n",
    "    case\n",
    "      when year is not null and quarter is null and month is null then 'year'\n",
    "      when year is not null and quarter is not null and month is null then 'quarter'\n",
    "      when year is not null and month is not null then 'month'\n",
    "      else 'unknown'\n",
    "    end as period_type,\n",
    "    year, quarter, month, month_name,\n",
    "    sales, profit, quantity, discount, orders,\n",
    "    case when sales  <> 0 then profit / sales end   as profit_margin,\n",
    "    case when orders <> 0 then sales  / orders end  as avg_order_value\n",
    "from agg;"
   ]
  },
  {
   "cell_type": "code",
   "execution_count": 0,
   "metadata": {
    "application/vnd.databricks.v1+cell": {
     "cellMetadata": {},
     "inputWidgets": {},
     "nuid": "6249e3c3-4257-4459-99e2-08c4bec2f535",
     "showTitle": false,
     "tableResultSettingsMap": {},
     "title": ""
    }
   },
   "outputs": [],
   "source": []
  }
 ],
 "metadata": {
  "application/vnd.databricks.v1+notebook": {
   "computePreferences": null,
   "dashboards": [],
   "environmentMetadata": {
    "base_environment": "",
    "environment_version": "3"
   },
   "inputWidgetPreferences": null,
   "language": "python",
   "notebookMetadata": {
    "mostRecentlyExecutedCommandWithImplicitDF": {
     "commandId": 7361436783629236,
     "dataframes": [
      "_sqldf"
     ]
    },
    "pythonIndentUnit": 4
   },
   "notebookName": "Genie Views",
   "widgets": {}
  },
  "language_info": {
   "name": "python"
  }
 },
 "nbformat": 4,
 "nbformat_minor": 0
}
